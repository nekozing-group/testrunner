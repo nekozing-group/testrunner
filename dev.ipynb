{
 "cells": [
  {
   "cell_type": "code",
   "execution_count": 1,
   "metadata": {},
   "outputs": [],
   "source": [
    "valid_inplace_types = (list, set)\n",
    "\n",
    "inplace_slots = {\n",
    "    \"+=\": \"__iadd__\",\n",
    "    \"-=\": \"__isub__\",\n",
    "    \"*=\": \"__imul__\",\n",
    "    \"/=\": (1 / 2 == 0) and \"__idiv__\" or \"__itruediv__\",\n",
    "    \"//=\": \"__ifloordiv__\",\n",
    "    \"%=\": \"__imod__\",\n",
    "    \"**=\": \"__ipow__\",\n",
    "    \"<<=\": \"__ilshift__\",\n",
    "    \">>=\": \"__irshift__\",\n",
    "    \"&=\": \"__iand__\",\n",
    "    \"^=\": \"__ixor__\",\n",
    "    \"|=\": \"__ior__\",\n",
    "}\n",
    "\n",
    "def __iadd__(x, y):\n",
    "    x += y\n",
    "    return x\n",
    "\n",
    "\n",
    "def __isub__(x, y):\n",
    "    x -= y\n",
    "    return x\n",
    "\n",
    "\n",
    "def __imul__(x, y):\n",
    "    x *= y\n",
    "    return x\n",
    "\n",
    "\n",
    "def __idiv__(x, y):\n",
    "    x /= y\n",
    "    return x\n",
    "\n",
    "\n",
    "def __ifloordiv__(x, y):\n",
    "    x //= y\n",
    "    return x\n",
    "\n",
    "\n",
    "def __imod__(x, y):\n",
    "    x %= y\n",
    "    return x\n",
    "\n",
    "\n",
    "def __ipow__(x, y):\n",
    "    x **= y\n",
    "    return x\n",
    "\n",
    "\n",
    "def __ilshift__(x, y):\n",
    "    x <<= y\n",
    "    return x\n",
    "\n",
    "\n",
    "def __irshift__(x, y):\n",
    "    x >>= y\n",
    "    return x\n",
    "\n",
    "\n",
    "def __iand__(x, y):\n",
    "    x &= y\n",
    "    return x\n",
    "\n",
    "\n",
    "def __ixor__(x, y):\n",
    "    x ^= y\n",
    "    return x\n",
    "\n",
    "\n",
    "def __ior__(x, y):\n",
    "    x |= y\n",
    "    return x\n",
    "\n",
    "inplace_ops = {\n",
    "    \"+=\": __iadd__,\n",
    "    \"-=\": __isub__,\n",
    "    \"*=\": __imul__,\n",
    "    \"/=\": __idiv__,\n",
    "    \"//=\": __ifloordiv__,\n",
    "    \"%=\": __imod__,\n",
    "    \"**=\": __ipow__,\n",
    "    \"<<=\": __ilshift__,\n",
    "    \">>=\": __irshift__,\n",
    "    \"&=\": __iand__,\n",
    "    \"^=\": __ixor__,\n",
    "    \"|=\": __ior__,\n",
    "}"
   ]
  },
  {
   "cell_type": "code",
   "execution_count": 2,
   "metadata": {},
   "outputs": [],
   "source": [
    "def protected_inplacevar(op, var, expr):\n",
    "    \"\"\"Do an inplace operation\n",
    "\n",
    "    If the var has an inplace slot, then disallow the operation\n",
    "    unless the var an instance of ``valid_inplace_types``.\n",
    "    \"\"\"\n",
    "    if hasattr(var, inplace_slots[op]) and not isinstance(var, valid_inplace_types):\n",
    "        try:\n",
    "            cls = var.__class__\n",
    "        except AttributeError:\n",
    "            cls = type(var)\n",
    "        raise TypeError(\n",
    "            \"Augmented assignment to %s objects is not allowed\"\n",
    "            \" in untrusted code\" % cls.__name__\n",
    "        )\n",
    "    return inplace_ops[op](var, expr)"
   ]
  },
  {
   "cell_type": "code",
   "execution_count": 81,
   "metadata": {},
   "outputs": [],
   "source": [
    "from RestrictedPython import compile_restricted\n",
    "from RestrictedPython import safe_globals, safe_builtins, utility_builtins\n",
    "from RestrictedPython import Eval, Guards, PrintCollector"
   ]
  },
  {
   "cell_type": "code",
   "execution_count": 123,
   "metadata": {},
   "outputs": [],
   "source": [
    "import uuid\n",
    "\n",
    "class PrintCollectorSingletonFactory:\n",
    "    def create_singleton(self):\n",
    "        instance = PrintCollector()\n",
    "        \n",
    "        # rewrite constructor\n",
    "        def get_instance(self, _getattr_=None):\n",
    "            instance._getattr_ = _getattr_\n",
    "            return instance\n",
    "\n",
    "        return type(f'PrintCollectorSingleton-{str(uuid.uuid4())}', (), {\n",
    "            'instance': instance,\n",
    "            'get_instance': get_instance\n",
    "        })\n",
    "        \n",
    "\n",
    "ALLOWED_IMPORTS = frozenset([\n",
    "    \"array\",\n",
    "    \"bisect\",\n",
    "    \"calendar\",\n",
    "    \"collections\",\n",
    "    \"datetime\",\n",
    "    \"heapq\",\n",
    "    \"re\",\n",
    "    \"string\",\n",
    "    \"time\",\n",
    "    \"typing\",\n",
    "    \"zoneinfo\"\n",
    "])\n",
    "\n",
    "def guarded_import(name, *args):\n",
    "    return __import__(name, *args)\n",
    "    # else:\n",
    "    #    raise ImportError(f\"{name} is not an allowed import.\")"
   ]
  },
  {
   "cell_type": "code",
   "execution_count": 128,
   "metadata": {},
   "outputs": [],
   "source": [
    "factory = PrintCollectorSingletonFactory()\n",
    "singleton = factory.create_singleton()\n",
    "\n",
    "allowed = {}\n",
    "allowed['_getitem_'] = Eval.default_guarded_getitem\n",
    "allowed['_getattr_'] = Eval.default_guarded_getattr\n",
    "allowed['__metaclass__'] = type\n",
    "allowed['__name__'] = 'name'\n",
    "allowed['_getiter_'] = Eval.default_guarded_getiter\n",
    "allowed['_iter_unpack_sequence_'] = Guards.guarded_iter_unpack_sequence\n",
    "allowed['_print_'] = singleton.get_instance\n",
    "allowed['_inplacevar_'] = protected_inplacevar\n",
    "allowed['__builtins__'] = safe_builtins | {\n",
    "    '__import__': guarded_import\n",
    "}"
   ]
  },
  {
   "cell_type": "code",
   "execution_count": 125,
   "metadata": {},
   "outputs": [],
   "source": [
    "bad_source = '''\n",
    "def boom():\n",
    "    arr = [1]\n",
    "    return arr[2]\n",
    "'''"
   ]
  },
  {
   "cell_type": "code",
   "execution_count": 129,
   "metadata": {},
   "outputs": [],
   "source": [
    "loops = '''\n",
    "import json\n",
    "def boom():\n",
    "    a = []\n",
    "    for i in range(10):\n",
    "        a.append(10-i)\n",
    "    i = 0\n",
    "    while i < 10:\n",
    "        i+=1\n",
    "    return sorted(a)\n",
    "'''"
   ]
  },
  {
   "cell_type": "code",
   "execution_count": 130,
   "metadata": {},
   "outputs": [],
   "source": [
    "byte_code = compile_restricted(loops, '<inline>', 'exec')\n",
    "loc = {}\n",
    "exec(byte_code, allowed , loc)\n",
    "func = loc['boom']"
   ]
  },
  {
   "cell_type": "code",
   "execution_count": 109,
   "metadata": {},
   "outputs": [
    {
     "data": {
      "text/plain": [
       "[1, 2, 3, 4, 5, 6, 7, 8, 9, 10]"
      ]
     },
     "execution_count": 109,
     "metadata": {},
     "output_type": "execute_result"
    }
   ],
   "source": [
    "func()"
   ]
  },
  {
   "cell_type": "code",
   "execution_count": 110,
   "metadata": {},
   "outputs": [
    {
     "data": {
      "text/plain": [
       "[\"<module 'math' from '/home/nekozing/miniconda3/envs/testrunner/lib/python3.11/lib-dynload/math.cpython-311-x86_64-linux-gnu.so'>\",\n",
       " '\\n']"
      ]
     },
     "execution_count": 110,
     "metadata": {},
     "output_type": "execute_result"
    }
   ],
   "source": [
    "singleton.instance.txt"
   ]
  },
  {
   "cell_type": "code",
   "execution_count": null,
   "metadata": {},
   "outputs": [],
   "source": []
  }
 ],
 "metadata": {
  "kernelspec": {
   "display_name": "testrunner",
   "language": "python",
   "name": "python3"
  },
  "language_info": {
   "codemirror_mode": {
    "name": "ipython",
    "version": 3
   },
   "file_extension": ".py",
   "mimetype": "text/x-python",
   "name": "python",
   "nbconvert_exporter": "python",
   "pygments_lexer": "ipython3",
   "version": "3.11.5"
  }
 },
 "nbformat": 4,
 "nbformat_minor": 2
}
